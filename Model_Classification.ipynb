{
  "nbformat": 4,
  "nbformat_minor": 0,
  "metadata": {
    "colab": {
      "provenance": [],
      "authorship_tag": "ABX9TyO6eCy6tsPdtPM9DcvBFJtp",
      "include_colab_link": true
    },
    "kernelspec": {
      "name": "python3",
      "display_name": "Python 3"
    },
    "language_info": {
      "name": "python"
    }
  },
  "cells": [
    {
      "cell_type": "markdown",
      "metadata": {
        "id": "view-in-github",
        "colab_type": "text"
      },
      "source": [
        "<a href=\"https://colab.research.google.com/github/YassineSdk/Leaf_classification_transfor_learning_pytorch/blob/main/Model_Classification.ipynb\" target=\"_parent\"><img src=\"https://colab.research.google.com/assets/colab-badge.svg\" alt=\"Open In Colab\"/></a>"
      ]
    },
    {
      "cell_type": "code",
      "execution_count": 1,
      "metadata": {
        "colab": {
          "base_uri": "https://localhost:8080/"
        },
        "id": "aG7huDLmFrTv",
        "outputId": "46eb64ad-f50d-4f7e-c5c3-401f4570f2a4"
      },
      "outputs": [
        {
          "output_type": "stream",
          "name": "stdout",
          "text": [
            "hello_word\n"
          ]
        }
      ],
      "source": [
        "print('hello_word')"
      ]
    },
    {
      "cell_type": "code",
      "source": [
        "! git clone https://github.com/YassineSdk/Leaf_classification_transfor_learning_pytorch.git"
      ],
      "metadata": {
        "colab": {
          "base_uri": "https://localhost:8080/"
        },
        "id": "wYbv5PlBHUNW",
        "outputId": "3f698ace-fc5f-44bf-9402-9b9919d21ce5"
      },
      "execution_count": 2,
      "outputs": [
        {
          "output_type": "stream",
          "name": "stdout",
          "text": [
            "Cloning into 'Leaf_classification_transfor_learning_pytorch'...\n",
            "warning: You appear to have cloned an empty repository.\n"
          ]
        }
      ]
    },
    {
      "cell_type": "code",
      "source": [
        "! git"
      ],
      "metadata": {
        "id": "baep42YAHZm_"
      },
      "execution_count": null,
      "outputs": []
    },
    {
      "cell_type": "code",
      "source": [
        "from google.colab import drive\n",
        "drive.mount('/content/drive')"
      ],
      "metadata": {
        "id": "pAstGbXoIWFH"
      },
      "execution_count": null,
      "outputs": []
    }
  ]
}